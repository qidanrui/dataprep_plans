{
 "cells": [
  {
   "cell_type": "markdown",
   "id": "increasing-serbia",
   "metadata": {},
   "source": [
    "# `clean_language()`: Clean Language Names\n",
    "\n",
    "Follow the [ISO 639 country codes](https://en.wikipedia.org/wiki/ISO_639/)\n",
    "Convert a language name into the formats:\n",
    "1. \"name\": the language name\n",
    "2. \"alpha-2\": two letter abbreviation\n",
    "3. \"alpha-3\": three letter abbreviation"
   ]
  },
  {
   "cell_type": "markdown",
   "id": "physical-teacher",
   "metadata": {},
   "source": [
    "# Features\n",
    "\n",
    "1. Create a Database with ISO 639 data, and associated regular expressions (see  [pycountry](https://pypi.org/project/pycountry/) , please refer `iso639-x.jso` in its `databases` folder),  for string formatting. This could be a json file, and can be stored in Python in a dict.\n",
    "\n",
    "2. Standardize null values\n",
    "\n",
    "3. If `input_format` is `auto`: use regex matching and table lookups to try to identify the languages, then output the languages in the output format. \n",
    "\n",
    "4. If `input_format` is not `auto`: map directly from the input to the output format\n",
    "\n",
    "5. (Optional) Fuzzy matching language names when the `input_format` is `name`. (Hint: please refer to the implementation of [clean_country](https://github.com/sfu-db/dataprep/blob/develop/dataprep/clean/clean_country.py))\n",
    "\n"
   ]
  },
  {
   "cell_type": "markdown",
   "id": "consecutive-bundle",
   "metadata": {},
   "source": [
    "# Tentative design"
   ]
  },
  {
   "cell_type": "code",
   "execution_count": null,
   "id": "compound-wildlife",
   "metadata": {},
   "outputs": [],
   "source": [
    "def clean_language(\n",
    "    df: Union[pd.DataFrame, dd.DataFrame],\n",
    "    column: str,\n",
    "    input_format: str = 'auto',\n",
    "    output_format: str = 'name',\n",
    "    fuzzy: bool = False,\n",
    "    fuzzy_dict: float = 0.0,\n",
    "    inplace: bool = False,\n",
    "    report: bool = True,\n",
    "    progress: bool = True,\n",
    ") -> pd.DataFrame:\n",
    "    \"\"\"\n",
    "    Parameters\n",
    "    ----------\n",
    "    df\n",
    "        A pandas or Dask DataFrame containing the data to be cleaned.\n",
    "    column\n",
    "        The name of the column containing language names.\n",
    "    input_format\n",
    "        The ISO 639 input format of the language.\n",
    "            - 'auto': infer the input format\n",
    "            - 'name': language name ('English')\n",
    "            - 'alpha-2': alpha-2 code ('en')\n",
    "            - 'alpha-3': alpha-3 code ('eng')\n",
    "        (default: 'auto')\n",
    "    output_format\n",
    "        The desired ISO 639 format of the language:\n",
    "            - 'name': language name ('English')\n",
    "            - 'alpha-2': alpha-2 code ('en')\n",
    "            - 'alpha-3': alpha-3 code ('eng')\n",
    "        (default: 'name')\n",
    "    fuzzy\n",
    "        If False, matching for input formats 'name' is done by looking\n",
    "        for a direct match. If True, matching is done by searching the input for a\n",
    "        regex match.\n",
    "        (default: False)\n",
    "    fuzzy_dist\n",
    "        The maximum edit distance (number of single character insertions, deletions\n",
    "        or substitutions required to change one word into the other) between a language value\n",
    "        and input that will count as a match. Only applies to 'auto', 'name'\n",
    "        input formats.\n",
    "        (default: 0.0)\n",
    "    inplace\n",
    "        If True, delete the column containing the data that was cleaned. Otherwise,\n",
    "        keep the original column.\n",
    "        (default: False)\n",
    "    report\n",
    "        If True, output the summary report. Otherwise, no report is outputted.\n",
    "        (default: True)\n",
    "    progress\n",
    "        If True, display a progress bar.\n",
    "        (default: True)\n",
    "    \"\"\""
   ]
  },
  {
   "cell_type": "markdown",
   "id": "heavy-crack",
   "metadata": {},
   "source": [
    "# Resources\n",
    "   1. [pycountry](https://pypi.org/project/pycountry/)\n",
    "   2. [Implementation of clean_country function in DataPrep](https://github.com/sfu-db/dataprep/blob/develop/dataprep/clean/clean_country.py)\n"
   ]
  },
  {
   "cell_type": "code",
   "execution_count": null,
   "id": "listed-investigator",
   "metadata": {},
   "outputs": [],
   "source": []
  }
 ],
 "metadata": {
  "kernelspec": {
   "display_name": "Python 3",
   "language": "python",
   "name": "python3"
  },
  "language_info": {
   "codemirror_mode": {
    "name": "ipython",
    "version": 3
   },
   "file_extension": ".py",
   "mimetype": "text/x-python",
   "name": "python",
   "nbconvert_exporter": "python",
   "pygments_lexer": "ipython3",
   "version": "3.6.12"
  }
 },
 "nbformat": 4,
 "nbformat_minor": 5
}
