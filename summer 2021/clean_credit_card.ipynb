{
 "cells": [
  {
   "cell_type": "markdown",
   "id": "prompt-andrew",
   "metadata": {},
   "source": [
    "# `clean_credit_card()`: Clean Credit Card Number\n",
    "\n",
    "Follow the [Issuer identification number (IIN)](https://en.wikipedia.org/wiki/Payment_card_number#Issuer_identification_number_(IIN)) and [Luhn algorithm](https://en.wikipedia.org/wiki/Luhn_algorithm)\n",
    "to validate and extract info from credit card number."
   ]
  },
  {
   "cell_type": "markdown",
   "id": "foreign-butter",
   "metadata": {},
   "source": [
    "# Features\n",
    "\n",
    "1. Create databases of [Issuer identification number (IIN)](https://en.wikipedia.org/wiki/Payment_card_number#Issuer_identification_number_(IIN)). When given a valid bank card number, the card brand can be recognized.\n",
    "\n",
    "2. Validate the card numbers with [Luhn algorithm](https://en.wikipedia.org/wiki/Luhn_algorithm)\n",
    "\n",
    "3. Transfer invalid card numbers into `NaN`\n",
    "\n",
    "4. Standardize null values."
   ]
  },
  {
   "cell_type": "markdown",
   "id": "elegant-necklace",
   "metadata": {},
   "source": [
    "# Tentative design"
   ]
  },
  {
   "cell_type": "code",
   "execution_count": null,
   "id": "executed-turkish",
   "metadata": {},
   "outputs": [],
   "source": [
    "def clean_credit_card(\n",
    "    df: Union[pd.DataFrame, dd.DataFrame],\n",
    "    column: str,\n",
    "    out_is_valid: bool = True,\n",
    "    out_brand: bool = True,\n",
    "    inplace: bool = False,\n",
    "    report: bool = True,\n",
    "    progress: bool = True,\n",
    "):\n",
    "    \"\"\"\n",
    "    Parameters\n",
    "    ----------\n",
    "    df\n",
    "        A pandas or Dask DataFrame containing the data to be cleaned.\n",
    "    column\n",
    "        The name of the column containing language names.\n",
    "    out_is_valid\n",
    "        If True, output the validation checking results of card numbers.\n",
    "        (default: False)\n",
    "    out_brand\n",
    "        If True, output the brands which card numbers belong to.\n",
    "        (default: False)\n",
    "    inplace\n",
    "        If True, delete the column containing the data that was cleaned. Otherwise,\n",
    "        keep the original column.\n",
    "        (default: False)\n",
    "    report\n",
    "        If True, output the summary report. Otherwise, no report is outputted.\n",
    "        (default: True)\n",
    "    progress\n",
    "        If True, display a progress bar.\n",
    "        (default: True)\n",
    "    \"\"\""
   ]
  },
  {
   "cell_type": "markdown",
   "id": "convenient-administration",
   "metadata": {},
   "source": [
    "# Resources\n",
    "   1. [creditcardnumber](https://github.com/sualeh/creditcardnumber/blob/master/src/main/java/us/fatehi/creditcardnumber/CardBrand.java)\n",
    "   2. [bank_card_validation](https://github.com/iamnorbo/bank_card_validation)\n",
    "   3. [bank-card-validator](https://github.com/smsalleyne/bank-card-validator)\n",
    "   4. [Card-Validator](https://github.com/mustafasirinn/Card-Validator)"
   ]
  },
  {
   "cell_type": "code",
   "execution_count": null,
   "id": "democratic-pulse",
   "metadata": {},
   "outputs": [],
   "source": []
  }
 ],
 "metadata": {
  "kernelspec": {
   "display_name": "Python 3",
   "language": "python",
   "name": "python3"
  },
  "language_info": {
   "codemirror_mode": {
    "name": "ipython",
    "version": 3
   },
   "file_extension": ".py",
   "mimetype": "text/x-python",
   "name": "python",
   "nbconvert_exporter": "python",
   "pygments_lexer": "ipython3",
   "version": "3.6.12"
  }
 },
 "nbformat": 4,
 "nbformat_minor": 5
}
