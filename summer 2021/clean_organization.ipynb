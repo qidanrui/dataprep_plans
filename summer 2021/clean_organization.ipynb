{
 "cells": [
  {
   "cell_type": "markdown",
   "id": "discrete-investigation",
   "metadata": {},
   "source": [
    "# `clean_organization()`: Clean Name of Organizations\n",
    "\n",
    "Validate and extract info from names of organizaitons."
   ]
  },
  {
   "cell_type": "markdown",
   "id": "drawn-creek",
   "metadata": {},
   "source": [
    "# Features\n",
    "\n",
    "1. Create databases of organization type and country, you can refer to [this link](https://github.com/psolin/cleanco/blob/master/cleanco/termdata.py)\n",
    "\n",
    "2. Create databases of names of organizations for some countries (like US, Canada), you can refer to [this link](https://powrbot.com/companies/list-of-regions/)\n",
    "\n",
    "3. Validate organization names by regex or using your database. \n",
    "\n",
    "4. Transfer invalid names into `NaN`\n",
    "\n",
    "5. Standardize null values\n",
    "\n",
    "6. The output should include the types and countries of the organizations. User can specify the output format of the coutries. "
   ]
  },
  {
   "cell_type": "markdown",
   "id": "welsh-concept",
   "metadata": {},
   "source": [
    "# Tentative design"
   ]
  },
  {
   "cell_type": "code",
   "execution_count": null,
   "id": "powerful-poultry",
   "metadata": {},
   "outputs": [],
   "source": [
    "def clean_organization(\n",
    "    df: Union[pd.DataFrame, dd.DataFrame],\n",
    "    column: str,\n",
    "    country: str = \"name\",\n",
    "    inplace: bool = False,\n",
    "    report: bool = True,\n",
    "    progress: bool = True,\n",
    ") -> pd.DataFrame:\n",
    "    \"\"\"\n",
    "    Parameters\n",
    "    ----------\n",
    "    df\n",
    "        A pandas or Dask DataFrame containing the data to be cleaned.\n",
    "    column\n",
    "        The name of the column containing language names.\n",
    "    country\n",
    "        The output format of company's country.\n",
    "        - 'name': country name\n",
    "        - 'alpha-2': alpha-2 code \n",
    "        - 'alpha-3': alpha-3 code \n",
    "        (default: 'name')\n",
    "    inplace\n",
    "        If True, delete the column containing the data that was cleaned. Otherwise,\n",
    "        keep the original column.\n",
    "        (default: False)\n",
    "    report\n",
    "        If True, output the summary report. Otherwise, no report is outputted.\n",
    "        (default: True)\n",
    "    progress\n",
    "        If True, display a progress bar.\n",
    "        (default: True)\n",
    "    \"\"\""
   ]
  },
  {
   "cell_type": "markdown",
   "id": "unauthorized-hunger",
   "metadata": {},
   "source": [
    "# Resources\n",
    "   1. [cleanco](https://github.com/psolin/cleanco)\n",
    "   2. [Free organization name database](https://powrbot.com/companies/list-of-regions/)"
   ]
  },
  {
   "cell_type": "code",
   "execution_count": null,
   "id": "close-bacteria",
   "metadata": {},
   "outputs": [],
   "source": []
  }
 ],
 "metadata": {
  "kernelspec": {
   "display_name": "Python 3",
   "language": "python",
   "name": "python3"
  },
  "language_info": {
   "codemirror_mode": {
    "name": "ipython",
    "version": 3
   },
   "file_extension": ".py",
   "mimetype": "text/x-python",
   "name": "python",
   "nbconvert_exporter": "python",
   "pygments_lexer": "ipython3",
   "version": "3.6.12"
  }
 },
 "nbformat": 4,
 "nbformat_minor": 5
}
