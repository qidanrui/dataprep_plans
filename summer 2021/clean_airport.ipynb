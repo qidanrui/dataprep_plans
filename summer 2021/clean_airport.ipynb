{
 "cells": [
  {
   "cell_type": "markdown",
   "id": "simple-precipitation",
   "metadata": {},
   "source": [
    "# `clean_airport()`: Clean Airport Codes or Names\n",
    "\n",
    "Follow the given databases in `Resources` to validate and extract info with airport code or name."
   ]
  },
  {
   "cell_type": "markdown",
   "id": "beneficial-differential",
   "metadata": {},
   "source": [
    "# Features\n",
    "\n",
    "1. Create databases of airport codes and their related detailed information. \n",
    "\n",
    "2. Check if the input airport code or name is valid (in your database).\n",
    "\n",
    "3. Transfer invalid airport code or name into `NaN`\n",
    "\n",
    "3. Standardize null values\n",
    "\n",
    "4. User can specify the output detailed information they want. "
   ]
  },
  {
   "cell_type": "markdown",
   "id": "recognized-reply",
   "metadata": {},
   "source": [
    "# Tentative design"
   ]
  },
  {
   "cell_type": "code",
   "execution_count": null,
   "id": "fantastic-perry",
   "metadata": {},
   "outputs": [],
   "source": [
    "def clean_airport(\n",
    "    df: Union[pd.DataFrame, dd.DataFrame],\n",
    "    column: str,\n",
    "    input_format: str = \"auto\",\n",
    "    output_format: str = \"name\",\n",
    "    output_detail: Optional[List[str]] = ['country_name', 'latitude', 'logtitude'],\n",
    "    fuzzy: bool = False,\n",
    "    fuzzy_dist: float = 0.0,\n",
    "    inplace: bool = False,\n",
    "    report: bool = True,\n",
    "    progress: bool = True,\n",
    ") -> pd.DataFrame:\n",
    "    \"\"\"\n",
    "    Parameters\n",
    "    ----------\n",
    "    df\n",
    "        A pandas or Dask DataFrame containing the data to be cleaned.\n",
    "    column\n",
    "        The name of the column containing language names.\n",
    "    input_format\n",
    "        - 'auto': infer the input format\n",
    "        - 'name': airport name ('Beijing Capital International Airport')\n",
    "        - 'identifier': identification code ('ZBAA')\n",
    "        (default: 'auto')\n",
    "    output_format\n",
    "        - 'name': airport name ('Beijing Capital International Airport')\n",
    "        - 'identifier': identification code ('ZBAA')\n",
    "        (default: 'name')\n",
    "    output_detail\n",
    "        The output of detailed list of extracting information. There are several options:\n",
    "        - 'country_name'\n",
    "        - 'country_alpha_2'\n",
    "        - 'country_alpha_3'\n",
    "        - 'region'\n",
    "        - 'city'\n",
    "        - 'municipality'\n",
    "        - 'latitude'\n",
    "        - 'longtitude'\n",
    "        - 'timezone'\n",
    "        - 'type'\n",
    "        - 'elevation_feet'\n",
    "    fuzzy\n",
    "        If False, matching for input formats 'name' is done by looking\n",
    "        for a direct match. If True, matching is done by searching the input for a\n",
    "        regex match.\n",
    "        (default: False)\n",
    "    fuzzy_dist\n",
    "        The maximum edit distance (number of single character insertions, deletions\n",
    "        or substitutions required to change one word into the other) between a airport value\n",
    "        and input that will count as a match. Only applies to 'auto', 'name'\n",
    "        input formats.\n",
    "        (default: 0.0)\n",
    "    inplace\n",
    "        If True, delete the column containing the data that was cleaned. Otherwise,\n",
    "        keep the original column.\n",
    "        (default: False)\n",
    "    report\n",
    "        If True, output the summary report. Otherwise, no report is outputted.\n",
    "        (default: True)\n",
    "    progress\n",
    "        If True, display a progress bar.\n",
    "        (default: True)\n",
    "    \"\"\""
   ]
  },
  {
   "cell_type": "markdown",
   "id": "otherwise-dynamics",
   "metadata": {},
   "source": [
    "# Resources\n",
    "1. [airportsdata](https://github.com/mborsetti/airportsdata)\n",
    "2. [airport-codes](https://github.com/datasets/airport-codes/blob/master/data/airport-codes.csv)"
   ]
  }
 ],
 "metadata": {
  "kernelspec": {
   "display_name": "Python 3",
   "language": "python",
   "name": "python3"
  },
  "language_info": {
   "codemirror_mode": {
    "name": "ipython",
    "version": 3
   },
   "file_extension": ".py",
   "mimetype": "text/x-python",
   "name": "python",
   "nbconvert_exporter": "python",
   "pygments_lexer": "ipython3",
   "version": "3.6.12"
  }
 },
 "nbformat": 4,
 "nbformat_minor": 5
}
