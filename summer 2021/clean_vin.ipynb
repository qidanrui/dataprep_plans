{
 "cells": [
  {
   "cell_type": "markdown",
   "id": "compact-atlanta",
   "metadata": {},
   "source": [
    "# `clean_vin()`: Clean Vehicle Identification Number\n",
    "\n",
    "Follow the [ISO 3779 standard](https://en.wikipedia.org/wiki/Vehicle_identification_number#cite_ref-4)\n",
    "Validate and extract info from vehicle identificaiton number."
   ]
  },
  {
   "cell_type": "markdown",
   "id": "musical-video",
   "metadata": {},
   "source": [
    "# Features\n",
    "\n",
    "1. Create databases of related data like WMI, region, check digits, model year, etc. Build valid regular expression of VIN for checking string format. Or you can just check each part seperately.\n",
    "\n",
    "2. Transfer invalid VIN code into `NaN`\n",
    "\n",
    "3. Standardize null values\n",
    "\n",
    "4. User can specify the output attributes they want. "
   ]
  },
  {
   "cell_type": "markdown",
   "id": "proof-metabolism",
   "metadata": {},
   "source": [
    "# Tentative design"
   ]
  },
  {
   "cell_type": "code",
   "execution_count": null,
   "id": "coupled-groove",
   "metadata": {},
   "outputs": [],
   "source": [
    "def clean_vin(\n",
    "    df: Union[pd.DataFrame, dd.DataFrame],\n",
    "    column: str,\n",
    "    out_attrs: Optional[List[str]] = ['country', 'year', 'manufactor'],\n",
    "    inplace: bool = False,\n",
    "    report: bool = True,\n",
    "    progress: bool = True,\n",
    ") -> pd.DataFrame:\n",
    "    \"\"\"\n",
    "    Parameters\n",
    "    ----------\n",
    "    df\n",
    "        A pandas or Dask DataFrame containing the data to be cleaned.\n",
    "    column\n",
    "        The name of the column containing language names.\n",
    "    out_attrs\n",
    "        The output attribute list of extracting information. There are several options:\n",
    "        - 'country'\n",
    "        - 'region'\n",
    "        - 'year'\n",
    "        - 'manufactor'\n",
    "        - 'check_digit'\n",
    "        - 'vds'\n",
    "        - 'vis'\n",
    "    inplace\n",
    "        If True, delete the column containing the data that was cleaned. Otherwise,\n",
    "        keep the original column.\n",
    "        (default: False)\n",
    "    report\n",
    "        If True, output the summary report. Otherwise, no report is outputted.\n",
    "        (default: True)\n",
    "    progress\n",
    "        If True, display a progress bar.\n",
    "        (default: True)\n",
    "    \"\"\""
   ]
  },
  {
   "cell_type": "markdown",
   "id": "coastal-converter",
   "metadata": {},
   "source": [
    "# Resources\n",
    "   1. [pyvin](https://github.com/arpuffer/pyvin)\n",
    "   2. [vininfo](https://github.com/idlesign/vininfo)"
   ]
  },
  {
   "cell_type": "code",
   "execution_count": null,
   "id": "stuffed-beads",
   "metadata": {},
   "outputs": [],
   "source": []
  }
 ],
 "metadata": {
  "kernelspec": {
   "display_name": "Python 3",
   "language": "python",
   "name": "python3"
  },
  "language_info": {
   "codemirror_mode": {
    "name": "ipython",
    "version": 3
   },
   "file_extension": ".py",
   "mimetype": "text/x-python",
   "name": "python",
   "nbconvert_exporter": "python",
   "pygments_lexer": "ipython3",
   "version": "3.6.12"
  }
 },
 "nbformat": 4,
 "nbformat_minor": 5
}
